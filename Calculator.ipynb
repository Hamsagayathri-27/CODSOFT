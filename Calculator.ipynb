{
  "nbformat": 4,
  "nbformat_minor": 0,
  "metadata": {
    "colab": {
      "provenance": []
    },
    "kernelspec": {
      "name": "python3",
      "display_name": "Python 3"
    },
    "language_info": {
      "name": "python"
    }
  },
  "cells": [
    {
      "cell_type": "code",
      "execution_count": 1,
      "metadata": {
        "colab": {
          "base_uri": "https://localhost:8080/"
        },
        "id": "ueMWOZKhsjXt",
        "outputId": "6cc26e4e-4d7b-43d8-d356-32f565eb47f9"
      },
      "outputs": [
        {
          "output_type": "stream",
          "name": "stdout",
          "text": [
            "Enter a value of a =10\n",
            "Enter a value of b =20\n",
            "Enter the operation to be performed( + - * / ** ) =+\n",
            "The sum of a and b is  30\n"
          ]
        }
      ],
      "source": [
        "a=int(input(\"Enter a value of a =\"))\n",
        "b=int(input(\"Enter a value of b =\"))\n",
        "operation=input(\"Enter the operation to be performed( + - * / ** ) =\")\n",
        "\n",
        "if operation == \"+\":\n",
        "  sum =a+b\n",
        "  print(\"The sum of a and b is \",sum)\n",
        "\n",
        "elif operation ==\"-\":\n",
        "  subtract =a-b\n",
        "  print(\"The subtraction of a and b is \",subtract)\n",
        "\n",
        "elif operation ==\"*\":\n",
        "  multiplication=a*b\n",
        "  print(\"The multiplication of a and b is\",multiplication)\n",
        "\n",
        "elif operation ==\"**\":\n",
        "  exponential=a**b\n",
        "  print(\"The exponential of a and b is\",exponential)\n",
        "\n",
        "elif operation ==\"/\":\n",
        "  division=a/b\n",
        "  print(\"The division of a and b is\",division)\n",
        "\n",
        "else:\n",
        "  print(\"Invalid operation\")\n",
        "\n",
        "\n"
      ]
    },
    {
      "cell_type": "code",
      "source": [],
      "metadata": {
        "id": "OP9XDUMtspwC"
      },
      "execution_count": null,
      "outputs": []
    }
  ]
}